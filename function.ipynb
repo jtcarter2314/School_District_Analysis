{
 "cells": [
  {
   "cell_type": "code",
   "execution_count": 21,
   "id": "cfe6d052",
   "metadata": {},
   "outputs": [],
   "source": [
    "# Define the function \"say_hello\" so it prints \"Hello!\" when called.\n",
    "def say_hello():\n",
    "    print(\"Hello!\")"
   ]
  },
  {
   "cell_type": "code",
   "execution_count": 22,
   "id": "b2f50913",
   "metadata": {},
   "outputs": [
    {
     "name": "stdout",
     "output_type": "stream",
     "text": [
      "Hello!\n"
     ]
    }
   ],
   "source": [
    "# Call the function.\n",
    "say_hello()"
   ]
  },
  {
   "cell_type": "code",
   "execution_count": 23,
   "id": "c028d13e",
   "metadata": {},
   "outputs": [],
   "source": [
    "# Define the function \"say_something\" so it prints whatever is passed as the variable when called.\n",
    "def say_something(something):\n",
    "    print(something)\n"
   ]
  },
  {
   "cell_type": "code",
   "execution_count": 24,
   "id": "ebef5c78",
   "metadata": {},
   "outputs": [
    {
     "name": "stdout",
     "output_type": "stream",
     "text": [
      "Hello World\n"
     ]
    }
   ],
   "source": [
    "# Call the function.\n",
    "say_something(\"Hello World\")\n"
   ]
  },
  {
   "cell_type": "code",
   "execution_count": 25,
   "id": "ce2ce226",
   "metadata": {},
   "outputs": [
    {
     "name": "stdout",
     "output_type": "stream",
     "text": [
      "Hi, my name is Jane. I'm learning Python!\n"
     ]
    }
   ],
   "source": [
    "Jane_says = \"Hi, my name is Jane. I'm learning Python!\"\n",
    "say_something(Jane_says)"
   ]
  },
  {
   "cell_type": "code",
   "execution_count": 26,
   "id": "898e06bc",
   "metadata": {},
   "outputs": [],
   "source": [
    "# A list of my grades.\n",
    "my_grades = ['B', 'C', 'B' , 'D']\n"
   ]
  },
  {
   "cell_type": "code",
   "execution_count": 27,
   "id": "eb6be8a5",
   "metadata": {},
   "outputs": [
    {
     "data": {
      "text/plain": [
       "0    B\n",
       "1    C\n",
       "2    B\n",
       "3    D\n",
       "dtype: object"
      ]
     },
     "execution_count": 27,
     "metadata": {},
     "output_type": "execute_result"
    }
   ],
   "source": [
    "# Import pandas.\n",
    "import pandas as pd\n",
    "# Convert the my_grades to a Series\n",
    "my_grades = pd.Series(my_grades)\n",
    "my_grades\n"
   ]
  },
  {
   "cell_type": "code",
   "execution_count": 28,
   "id": "b77a11cd",
   "metadata": {},
   "outputs": [
    {
     "name": "stdout",
     "output_type": "stream",
     "text": [
      "92\n",
      "85\n",
      "87\n",
      "98\n"
     ]
    }
   ],
   "source": [
    "# Using the format() function.\n",
    "my_grades = [92.34, 84.56, 86.78, 98.32]\n",
    "\n",
    "for grade in my_grades:\n",
    "    print(\"{:.0f}\".format(grade))"
   ]
  },
  {
   "cell_type": "code",
   "execution_count": 29,
   "id": "a637907b",
   "metadata": {},
   "outputs": [
    {
     "data": {
      "text/plain": [
       "0    92.34\n",
       "1    84.56\n",
       "2    86.78\n",
       "3    78.32\n",
       "dtype: float64"
      ]
     },
     "execution_count": 29,
     "metadata": {},
     "output_type": "execute_result"
    }
   ],
   "source": [
    "# Convert the numerical grades to a Series.\n",
    "my_grades = pd.Series([92.34, 84.56, 86.78, 78.32])\n",
    "my_grades"
   ]
  },
  {
   "cell_type": "code",
   "execution_count": null,
   "id": "b66eaaf9",
   "metadata": {},
   "outputs": [],
   "source": []
  },
  {
   "cell_type": "code",
   "execution_count": null,
   "id": "3cefcae1",
   "metadata": {},
   "outputs": [],
   "source": []
  },
  {
   "cell_type": "code",
   "execution_count": null,
   "id": "6b285b75",
   "metadata": {},
   "outputs": [],
   "source": []
  }
 ],
 "metadata": {
  "kernelspec": {
   "display_name": "PythonData",
   "language": "python",
   "name": "pythondata"
  },
  "language_info": {
   "codemirror_mode": {
    "name": "ipython",
    "version": 3
   },
   "file_extension": ".py",
   "mimetype": "text/x-python",
   "name": "python",
   "nbconvert_exporter": "python",
   "pygments_lexer": "ipython3",
   "version": "3.8.8"
  }
 },
 "nbformat": 4,
 "nbformat_minor": 5
}
